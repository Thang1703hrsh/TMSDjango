{
 "cells": [
  {
   "cell_type": "code",
   "execution_count": 15,
   "metadata": {},
   "outputs": [
    {
     "name": "stdout",
     "output_type": "stream",
     "text": [
      "2023-02-21 08:35:55.813888\n"
     ]
    }
   ],
   "source": [
    "import pandas as pd\n",
    "import numpy as np\n",
    "pd.options.display.max_columns = None\n",
    "pd.options.mode.chained_assignment = None  # default='warn'\n",
    "from datetime import datetime\n",
    "now = datetime.now()\n",
    "print(now)"
   ]
  },
  {
   "attachments": {},
   "cell_type": "markdown",
   "metadata": {},
   "source": [
    "#### Nguyên phụ liệu"
   ]
  },
  {
   "cell_type": "code",
   "execution_count": 16,
   "metadata": {},
   "outputs": [
    {
     "data": {
      "text/html": [
       "<div>\n",
       "<style scoped>\n",
       "    .dataframe tbody tr th:only-of-type {\n",
       "        vertical-align: middle;\n",
       "    }\n",
       "\n",
       "    .dataframe tbody tr th {\n",
       "        vertical-align: top;\n",
       "    }\n",
       "\n",
       "    .dataframe thead th {\n",
       "        text-align: right;\n",
       "    }\n",
       "</style>\n",
       "<table border=\"1\" class=\"dataframe\">\n",
       "  <thead>\n",
       "    <tr style=\"text-align: right;\">\n",
       "      <th></th>\n",
       "      <th>product_id</th>\n",
       "      <th>product_unit_id</th>\n",
       "      <th>unit_id</th>\n",
       "      <th>name_unit</th>\n",
       "      <th>is_default</th>\n",
       "    </tr>\n",
       "  </thead>\n",
       "  <tbody>\n",
       "    <tr>\n",
       "      <th>0</th>\n",
       "      <td>21</td>\n",
       "      <td>21</td>\n",
       "      <td>1</td>\n",
       "      <td>Mét</td>\n",
       "      <td>1</td>\n",
       "    </tr>\n",
       "    <tr>\n",
       "      <th>1</th>\n",
       "      <td>22</td>\n",
       "      <td>22</td>\n",
       "      <td>1</td>\n",
       "      <td>Mét</td>\n",
       "      <td>1</td>\n",
       "    </tr>\n",
       "    <tr>\n",
       "      <th>2</th>\n",
       "      <td>26</td>\n",
       "      <td>26</td>\n",
       "      <td>1</td>\n",
       "      <td>Mét</td>\n",
       "      <td>1</td>\n",
       "    </tr>\n",
       "    <tr>\n",
       "      <th>3</th>\n",
       "      <td>28</td>\n",
       "      <td>28</td>\n",
       "      <td>1</td>\n",
       "      <td>Mét</td>\n",
       "      <td>1</td>\n",
       "    </tr>\n",
       "    <tr>\n",
       "      <th>4</th>\n",
       "      <td>31</td>\n",
       "      <td>31</td>\n",
       "      <td>1</td>\n",
       "      <td>Mét</td>\n",
       "      <td>1</td>\n",
       "    </tr>\n",
       "    <tr>\n",
       "      <th>...</th>\n",
       "      <td>...</td>\n",
       "      <td>...</td>\n",
       "      <td>...</td>\n",
       "      <td>...</td>\n",
       "      <td>...</td>\n",
       "    </tr>\n",
       "    <tr>\n",
       "      <th>16842</th>\n",
       "      <td>7909</td>\n",
       "      <td>7919</td>\n",
       "      <td>20</td>\n",
       "      <td>Pia</td>\n",
       "      <td>1</td>\n",
       "    </tr>\n",
       "    <tr>\n",
       "      <th>16843</th>\n",
       "      <td>7914</td>\n",
       "      <td>7924</td>\n",
       "      <td>21</td>\n",
       "      <td>Cây</td>\n",
       "      <td>1</td>\n",
       "    </tr>\n",
       "    <tr>\n",
       "      <th>16844</th>\n",
       "      <td>7916</td>\n",
       "      <td>7926</td>\n",
       "      <td>21</td>\n",
       "      <td>Cây</td>\n",
       "      <td>1</td>\n",
       "    </tr>\n",
       "    <tr>\n",
       "      <th>16845</th>\n",
       "      <td>7917</td>\n",
       "      <td>7927</td>\n",
       "      <td>21</td>\n",
       "      <td>Cây</td>\n",
       "      <td>1</td>\n",
       "    </tr>\n",
       "    <tr>\n",
       "      <th>16846</th>\n",
       "      <td>7915</td>\n",
       "      <td>17062</td>\n",
       "      <td>21</td>\n",
       "      <td>Cây</td>\n",
       "      <td>1</td>\n",
       "    </tr>\n",
       "  </tbody>\n",
       "</table>\n",
       "<p>16847 rows × 5 columns</p>\n",
       "</div>"
      ],
      "text/plain": [
       "       product_id  product_unit_id  unit_id name_unit  is_default\n",
       "0              21               21        1       Mét           1\n",
       "1              22               22        1       Mét           1\n",
       "2              26               26        1       Mét           1\n",
       "3              28               28        1       Mét           1\n",
       "4              31               31        1       Mét           1\n",
       "...           ...              ...      ...       ...         ...\n",
       "16842        7909             7919       20       Pia           1\n",
       "16843        7914             7924       21       Cây           1\n",
       "16844        7916             7926       21       Cây           1\n",
       "16845        7917             7927       21       Cây           1\n",
       "16846        7915            17062       21       Cây           1\n",
       "\n",
       "[16847 rows x 5 columns]"
      ]
     },
     "execution_count": 16,
     "metadata": {},
     "output_type": "execute_result"
    }
   ],
   "source": [
    "dfProductUnit = pd.read_csv('../dataDA/ProductUnit.csv')\n",
    "dfProductUnit"
   ]
  },
  {
   "cell_type": "code",
   "execution_count": 3,
   "metadata": {},
   "outputs": [
    {
     "data": {
      "text/html": [
       "<div>\n",
       "<style scoped>\n",
       "    .dataframe tbody tr th:only-of-type {\n",
       "        vertical-align: middle;\n",
       "    }\n",
       "\n",
       "    .dataframe tbody tr th {\n",
       "        vertical-align: top;\n",
       "    }\n",
       "\n",
       "    .dataframe thead th {\n",
       "        text-align: right;\n",
       "    }\n",
       "</style>\n",
       "<table border=\"1\" class=\"dataframe\">\n",
       "  <thead>\n",
       "    <tr style=\"text-align: right;\">\n",
       "      <th></th>\n",
       "      <th>product_id</th>\n",
       "      <th>product_unit_id</th>\n",
       "      <th>unit_id</th>\n",
       "      <th>name_unit</th>\n",
       "      <th>is_default</th>\n",
       "    </tr>\n",
       "  </thead>\n",
       "  <tbody>\n",
       "    <tr>\n",
       "      <th>0</th>\n",
       "      <td>21</td>\n",
       "      <td>21</td>\n",
       "      <td>1</td>\n",
       "      <td>Mét</td>\n",
       "      <td>1</td>\n",
       "    </tr>\n",
       "    <tr>\n",
       "      <th>1</th>\n",
       "      <td>22</td>\n",
       "      <td>22</td>\n",
       "      <td>1</td>\n",
       "      <td>Mét</td>\n",
       "      <td>1</td>\n",
       "    </tr>\n",
       "    <tr>\n",
       "      <th>2</th>\n",
       "      <td>26</td>\n",
       "      <td>26</td>\n",
       "      <td>1</td>\n",
       "      <td>Mét</td>\n",
       "      <td>1</td>\n",
       "    </tr>\n",
       "    <tr>\n",
       "      <th>3</th>\n",
       "      <td>28</td>\n",
       "      <td>28</td>\n",
       "      <td>1</td>\n",
       "      <td>Mét</td>\n",
       "      <td>1</td>\n",
       "    </tr>\n",
       "    <tr>\n",
       "      <th>4</th>\n",
       "      <td>31</td>\n",
       "      <td>31</td>\n",
       "      <td>1</td>\n",
       "      <td>Mét</td>\n",
       "      <td>1</td>\n",
       "    </tr>\n",
       "    <tr>\n",
       "      <th>...</th>\n",
       "      <td>...</td>\n",
       "      <td>...</td>\n",
       "      <td>...</td>\n",
       "      <td>...</td>\n",
       "      <td>...</td>\n",
       "    </tr>\n",
       "    <tr>\n",
       "      <th>16842</th>\n",
       "      <td>7909</td>\n",
       "      <td>7919</td>\n",
       "      <td>20</td>\n",
       "      <td>Pia</td>\n",
       "      <td>1</td>\n",
       "    </tr>\n",
       "    <tr>\n",
       "      <th>16843</th>\n",
       "      <td>7914</td>\n",
       "      <td>7924</td>\n",
       "      <td>21</td>\n",
       "      <td>Cây</td>\n",
       "      <td>1</td>\n",
       "    </tr>\n",
       "    <tr>\n",
       "      <th>16844</th>\n",
       "      <td>7916</td>\n",
       "      <td>7926</td>\n",
       "      <td>21</td>\n",
       "      <td>Cây</td>\n",
       "      <td>1</td>\n",
       "    </tr>\n",
       "    <tr>\n",
       "      <th>16845</th>\n",
       "      <td>7917</td>\n",
       "      <td>7927</td>\n",
       "      <td>21</td>\n",
       "      <td>Cây</td>\n",
       "      <td>1</td>\n",
       "    </tr>\n",
       "    <tr>\n",
       "      <th>16846</th>\n",
       "      <td>7915</td>\n",
       "      <td>17062</td>\n",
       "      <td>21</td>\n",
       "      <td>Cây</td>\n",
       "      <td>1</td>\n",
       "    </tr>\n",
       "  </tbody>\n",
       "</table>\n",
       "<p>11334 rows × 5 columns</p>\n",
       "</div>"
      ],
      "text/plain": [
       "       product_id  product_unit_id  unit_id name_unit  is_default\n",
       "0              21               21        1       Mét           1\n",
       "1              22               22        1       Mét           1\n",
       "2              26               26        1       Mét           1\n",
       "3              28               28        1       Mét           1\n",
       "4              31               31        1       Mét           1\n",
       "...           ...              ...      ...       ...         ...\n",
       "16842        7909             7919       20       Pia           1\n",
       "16843        7914             7924       21       Cây           1\n",
       "16844        7916             7926       21       Cây           1\n",
       "16845        7917             7927       21       Cây           1\n",
       "16846        7915            17062       21       Cây           1\n",
       "\n",
       "[11334 rows x 5 columns]"
      ]
     },
     "execution_count": 3,
     "metadata": {},
     "output_type": "execute_result"
    }
   ],
   "source": [
    "dfProductUnitDefault = dfProductUnit[dfProductUnit['is_default'] == 1]\n",
    "dfProductUnitDefault"
   ]
  },
  {
   "cell_type": "code",
   "execution_count": 4,
   "metadata": {},
   "outputs": [
    {
     "data": {
      "text/html": [
       "<div>\n",
       "<style scoped>\n",
       "    .dataframe tbody tr th:only-of-type {\n",
       "        vertical-align: middle;\n",
       "    }\n",
       "\n",
       "    .dataframe tbody tr th {\n",
       "        vertical-align: top;\n",
       "    }\n",
       "\n",
       "    .dataframe thead th {\n",
       "        text-align: right;\n",
       "    }\n",
       "</style>\n",
       "<table border=\"1\" class=\"dataframe\">\n",
       "  <thead>\n",
       "    <tr style=\"text-align: right;\">\n",
       "      <th></th>\n",
       "      <th>name</th>\n",
       "      <th>product_id</th>\n",
       "      <th>is_outsourcing</th>\n",
       "      <th>product_code</th>\n",
       "      <th>quantity_product</th>\n",
       "    </tr>\n",
       "  </thead>\n",
       "  <tbody>\n",
       "    <tr>\n",
       "      <th>0</th>\n",
       "      <td>Lưới màn 80G Black</td>\n",
       "      <td>1</td>\n",
       "      <td>0</td>\n",
       "      <td>1-LUOIMA-BLK-80-CM</td>\n",
       "      <td>6301.91</td>\n",
       "    </tr>\n",
       "    <tr>\n",
       "      <th>1</th>\n",
       "      <td>Lưới màn 80G White</td>\n",
       "      <td>2</td>\n",
       "      <td>0</td>\n",
       "      <td>1-LUOIMA-WHI-80-CM</td>\n",
       "      <td>13742.73</td>\n",
       "    </tr>\n",
       "    <tr>\n",
       "      <th>2</th>\n",
       "      <td>Lưới màn 80G Light White</td>\n",
       "      <td>3</td>\n",
       "      <td>0</td>\n",
       "      <td>1-LUOIMA-LWH-80-CM</td>\n",
       "      <td>4437.70</td>\n",
       "    </tr>\n",
       "    <tr>\n",
       "      <th>3</th>\n",
       "      <td>Lưới màn mỏng 28G Black</td>\n",
       "      <td>4</td>\n",
       "      <td>0</td>\n",
       "      <td>1-LUOIMA-BLK-28-CM</td>\n",
       "      <td>3270.90</td>\n",
       "    </tr>\n",
       "    <tr>\n",
       "      <th>4</th>\n",
       "      <td>Lưới màn mỏng 28G White</td>\n",
       "      <td>5</td>\n",
       "      <td>0</td>\n",
       "      <td>1-LUOIMA-WHI-28-CM</td>\n",
       "      <td>2324.08</td>\n",
       "    </tr>\n",
       "    <tr>\n",
       "      <th>...</th>\n",
       "      <td>...</td>\n",
       "      <td>...</td>\n",
       "      <td>...</td>\n",
       "      <td>...</td>\n",
       "      <td>...</td>\n",
       "    </tr>\n",
       "    <tr>\n",
       "      <th>11155</th>\n",
       "      <td>Vải nylon Black ép mút 5mm</td>\n",
       "      <td>11468</td>\n",
       "      <td>1</td>\n",
       "      <td>1-NY0000-BLK-M5-PE</td>\n",
       "      <td>0.00</td>\n",
       "    </tr>\n",
       "    <tr>\n",
       "      <th>11156</th>\n",
       "      <td>Vải nylon Black ép mút 2mm</td>\n",
       "      <td>11469</td>\n",
       "      <td>1</td>\n",
       "      <td>1-NY0000-BLK-M2-PE</td>\n",
       "      <td>0.00</td>\n",
       "    </tr>\n",
       "    <tr>\n",
       "      <th>11157</th>\n",
       "      <td>Dây khóa da Black W160mm x H18mm HM-221126-190...</td>\n",
       "      <td>11470</td>\n",
       "      <td>0</td>\n",
       "      <td>6-KDHM06-BLK-DA-TQ</td>\n",
       "      <td>126.00</td>\n",
       "    </tr>\n",
       "    <tr>\n",
       "      <th>11158</th>\n",
       "      <td>Khuôn Dây khóa da Black W160mm x H18mm HM-2211...</td>\n",
       "      <td>11471</td>\n",
       "      <td>0</td>\n",
       "      <td>9-KDHM06-BLK-DA-TQ</td>\n",
       "      <td>1.00</td>\n",
       "    </tr>\n",
       "    <tr>\n",
       "      <th>11159</th>\n",
       "      <td>Dây thun 32mm White</td>\n",
       "      <td>11472</td>\n",
       "      <td>0</td>\n",
       "      <td>5-DATHUN-WHI-32-AN</td>\n",
       "      <td>0.00</td>\n",
       "    </tr>\n",
       "  </tbody>\n",
       "</table>\n",
       "<p>11160 rows × 5 columns</p>\n",
       "</div>"
      ],
      "text/plain": [
       "                                                    name  product_id  \\\n",
       "0                                     Lưới màn 80G Black           1   \n",
       "1                                     Lưới màn 80G White           2   \n",
       "2                               Lưới màn 80G Light White           3   \n",
       "3                                Lưới màn mỏng 28G Black           4   \n",
       "4                                Lưới màn mỏng 28G White           5   \n",
       "...                                                  ...         ...   \n",
       "11155                         Vải nylon Black ép mút 5mm       11468   \n",
       "11156                         Vải nylon Black ép mút 2mm       11469   \n",
       "11157  Dây khóa da Black W160mm x H18mm HM-221126-190...       11470   \n",
       "11158  Khuôn Dây khóa da Black W160mm x H18mm HM-2211...       11471   \n",
       "11159                                Dây thun 32mm White       11472   \n",
       "\n",
       "       is_outsourcing        product_code  quantity_product  \n",
       "0                   0  1-LUOIMA-BLK-80-CM           6301.91  \n",
       "1                   0  1-LUOIMA-WHI-80-CM          13742.73  \n",
       "2                   0  1-LUOIMA-LWH-80-CM           4437.70  \n",
       "3                   0  1-LUOIMA-BLK-28-CM           3270.90  \n",
       "4                   0  1-LUOIMA-WHI-28-CM           2324.08  \n",
       "...               ...                 ...               ...  \n",
       "11155               1  1-NY0000-BLK-M5-PE              0.00  \n",
       "11156               1  1-NY0000-BLK-M2-PE              0.00  \n",
       "11157               0  6-KDHM06-BLK-DA-TQ            126.00  \n",
       "11158               0  9-KDHM06-BLK-DA-TQ              1.00  \n",
       "11159               0  5-DATHUN-WHI-32-AN              0.00  \n",
       "\n",
       "[11160 rows x 5 columns]"
      ]
     },
     "execution_count": 4,
     "metadata": {},
     "output_type": "execute_result"
    }
   ],
   "source": [
    "dfOrder = pd.read_csv('../dataDA/Product.csv')\n",
    "dfOrder"
   ]
  },
  {
   "cell_type": "code",
   "execution_count": 5,
   "metadata": {},
   "outputs": [
    {
     "data": {
      "text/html": [
       "<div>\n",
       "<style scoped>\n",
       "    .dataframe tbody tr th:only-of-type {\n",
       "        vertical-align: middle;\n",
       "    }\n",
       "\n",
       "    .dataframe tbody tr th {\n",
       "        vertical-align: top;\n",
       "    }\n",
       "\n",
       "    .dataframe thead th {\n",
       "        text-align: right;\n",
       "    }\n",
       "</style>\n",
       "<table border=\"1\" class=\"dataframe\">\n",
       "  <thead>\n",
       "    <tr style=\"text-align: right;\">\n",
       "      <th></th>\n",
       "      <th>name</th>\n",
       "      <th>product_id</th>\n",
       "      <th>is_outsourcing</th>\n",
       "      <th>product_code</th>\n",
       "      <th>quantity_product</th>\n",
       "      <th>name_unit</th>\n",
       "    </tr>\n",
       "  </thead>\n",
       "  <tbody>\n",
       "    <tr>\n",
       "      <th>0</th>\n",
       "      <td>Lưới màn 80G Black</td>\n",
       "      <td>1</td>\n",
       "      <td>0</td>\n",
       "      <td>1-LUOIMA-BLK-80-CM</td>\n",
       "      <td>6301.91</td>\n",
       "      <td>Mét</td>\n",
       "    </tr>\n",
       "    <tr>\n",
       "      <th>1</th>\n",
       "      <td>Lưới màn 80G White</td>\n",
       "      <td>2</td>\n",
       "      <td>0</td>\n",
       "      <td>1-LUOIMA-WHI-80-CM</td>\n",
       "      <td>13742.73</td>\n",
       "      <td>Mét</td>\n",
       "    </tr>\n",
       "    <tr>\n",
       "      <th>2</th>\n",
       "      <td>Lưới màn 80G Light White</td>\n",
       "      <td>3</td>\n",
       "      <td>0</td>\n",
       "      <td>1-LUOIMA-LWH-80-CM</td>\n",
       "      <td>4437.70</td>\n",
       "      <td>Mét</td>\n",
       "    </tr>\n",
       "    <tr>\n",
       "      <th>3</th>\n",
       "      <td>Lưới màn mỏng 28G Black</td>\n",
       "      <td>4</td>\n",
       "      <td>0</td>\n",
       "      <td>1-LUOIMA-BLK-28-CM</td>\n",
       "      <td>3270.90</td>\n",
       "      <td>Mét</td>\n",
       "    </tr>\n",
       "    <tr>\n",
       "      <th>4</th>\n",
       "      <td>Lưới màn mỏng 28G White</td>\n",
       "      <td>5</td>\n",
       "      <td>0</td>\n",
       "      <td>1-LUOIMA-WHI-28-CM</td>\n",
       "      <td>2324.08</td>\n",
       "      <td>Mét</td>\n",
       "    </tr>\n",
       "    <tr>\n",
       "      <th>...</th>\n",
       "      <td>...</td>\n",
       "      <td>...</td>\n",
       "      <td>...</td>\n",
       "      <td>...</td>\n",
       "      <td>...</td>\n",
       "      <td>...</td>\n",
       "    </tr>\n",
       "    <tr>\n",
       "      <th>11155</th>\n",
       "      <td>Vải nylon Black ép mút 5mm</td>\n",
       "      <td>11468</td>\n",
       "      <td>1</td>\n",
       "      <td>1-NY0000-BLK-M5-PE</td>\n",
       "      <td>0.00</td>\n",
       "      <td>Mét</td>\n",
       "    </tr>\n",
       "    <tr>\n",
       "      <th>11156</th>\n",
       "      <td>Vải nylon Black ép mút 2mm</td>\n",
       "      <td>11469</td>\n",
       "      <td>1</td>\n",
       "      <td>1-NY0000-BLK-M2-PE</td>\n",
       "      <td>0.00</td>\n",
       "      <td>Mét</td>\n",
       "    </tr>\n",
       "    <tr>\n",
       "      <th>11157</th>\n",
       "      <td>Dây khóa da Black W160mm x H18mm HM-221126-190...</td>\n",
       "      <td>11470</td>\n",
       "      <td>0</td>\n",
       "      <td>6-KDHM06-BLK-DA-TQ</td>\n",
       "      <td>126.00</td>\n",
       "      <td>Cái</td>\n",
       "    </tr>\n",
       "    <tr>\n",
       "      <th>11158</th>\n",
       "      <td>Khuôn Dây khóa da Black W160mm x H18mm HM-2211...</td>\n",
       "      <td>11471</td>\n",
       "      <td>0</td>\n",
       "      <td>9-KDHM06-BLK-DA-TQ</td>\n",
       "      <td>1.00</td>\n",
       "      <td>Cái</td>\n",
       "    </tr>\n",
       "    <tr>\n",
       "      <th>11159</th>\n",
       "      <td>Dây thun 32mm White</td>\n",
       "      <td>11472</td>\n",
       "      <td>0</td>\n",
       "      <td>5-DATHUN-WHI-32-AN</td>\n",
       "      <td>0.00</td>\n",
       "      <td>Mét</td>\n",
       "    </tr>\n",
       "  </tbody>\n",
       "</table>\n",
       "<p>11160 rows × 6 columns</p>\n",
       "</div>"
      ],
      "text/plain": [
       "                                                    name  product_id  \\\n",
       "0                                     Lưới màn 80G Black           1   \n",
       "1                                     Lưới màn 80G White           2   \n",
       "2                               Lưới màn 80G Light White           3   \n",
       "3                                Lưới màn mỏng 28G Black           4   \n",
       "4                                Lưới màn mỏng 28G White           5   \n",
       "...                                                  ...         ...   \n",
       "11155                         Vải nylon Black ép mút 5mm       11468   \n",
       "11156                         Vải nylon Black ép mút 2mm       11469   \n",
       "11157  Dây khóa da Black W160mm x H18mm HM-221126-190...       11470   \n",
       "11158  Khuôn Dây khóa da Black W160mm x H18mm HM-2211...       11471   \n",
       "11159                                Dây thun 32mm White       11472   \n",
       "\n",
       "       is_outsourcing        product_code  quantity_product name_unit  \n",
       "0                   0  1-LUOIMA-BLK-80-CM           6301.91       Mét  \n",
       "1                   0  1-LUOIMA-WHI-80-CM          13742.73       Mét  \n",
       "2                   0  1-LUOIMA-LWH-80-CM           4437.70       Mét  \n",
       "3                   0  1-LUOIMA-BLK-28-CM           3270.90       Mét  \n",
       "4                   0  1-LUOIMA-WHI-28-CM           2324.08       Mét  \n",
       "...               ...                 ...               ...       ...  \n",
       "11155               1  1-NY0000-BLK-M5-PE              0.00       Mét  \n",
       "11156               1  1-NY0000-BLK-M2-PE              0.00       Mét  \n",
       "11157               0  6-KDHM06-BLK-DA-TQ            126.00       Cái  \n",
       "11158               0  9-KDHM06-BLK-DA-TQ              1.00       Cái  \n",
       "11159               0  5-DATHUN-WHI-32-AN              0.00       Mét  \n",
       "\n",
       "[11160 rows x 6 columns]"
      ]
     },
     "execution_count": 5,
     "metadata": {},
     "output_type": "execute_result"
    }
   ],
   "source": [
    "dfProduct = pd.read_csv('../dataDA/Product.csv')\n",
    "dfProductUnit = dfProduct.merge(dfProductUnitDefault , on = 'product_id' , how = 'left').drop(columns= {'product_unit_id' , 'unit_id' , 'is_default'})\n",
    "dfProductUnit"
   ]
  },
  {
   "cell_type": "code",
   "execution_count": null,
   "metadata": {},
   "outputs": [],
   "source": []
  },
  {
   "cell_type": "code",
   "execution_count": 6,
   "metadata": {},
   "outputs": [
    {
     "data": {
      "text/html": [
       "<div>\n",
       "<style scoped>\n",
       "    .dataframe tbody tr th:only-of-type {\n",
       "        vertical-align: middle;\n",
       "    }\n",
       "\n",
       "    .dataframe tbody tr th {\n",
       "        vertical-align: top;\n",
       "    }\n",
       "\n",
       "    .dataframe thead th {\n",
       "        text-align: right;\n",
       "    }\n",
       "</style>\n",
       "<table border=\"1\" class=\"dataframe\">\n",
       "  <thead>\n",
       "    <tr style=\"text-align: right;\">\n",
       "      <th></th>\n",
       "      <th>product_id</th>\n",
       "      <th>outsourcing_product_id</th>\n",
       "      <th>product_code</th>\n",
       "      <th>quota_outsourcing</th>\n",
       "    </tr>\n",
       "  </thead>\n",
       "  <tbody>\n",
       "    <tr>\n",
       "      <th>0</th>\n",
       "      <td>73</td>\n",
       "      <td>75</td>\n",
       "      <td>1-CVAC04-SCA-00-IW</td>\n",
       "      <td>1.0</td>\n",
       "    </tr>\n",
       "    <tr>\n",
       "      <th>1</th>\n",
       "      <td>73</td>\n",
       "      <td>78</td>\n",
       "      <td>1-CVAC04-SCA-00-IW</td>\n",
       "      <td>1.0</td>\n",
       "    </tr>\n",
       "    <tr>\n",
       "      <th>2</th>\n",
       "      <td>73</td>\n",
       "      <td>79</td>\n",
       "      <td>1-CVAC04-SCA-00-IW</td>\n",
       "      <td>1.0</td>\n",
       "    </tr>\n",
       "    <tr>\n",
       "      <th>3</th>\n",
       "      <td>80</td>\n",
       "      <td>81</td>\n",
       "      <td>1-CVAC05-DBN-00-IW</td>\n",
       "      <td>1.0</td>\n",
       "    </tr>\n",
       "    <tr>\n",
       "      <th>4</th>\n",
       "      <td>96</td>\n",
       "      <td>101</td>\n",
       "      <td>1-CVAC07-GRY-00-HV</td>\n",
       "      <td>1.0</td>\n",
       "    </tr>\n",
       "    <tr>\n",
       "      <th>...</th>\n",
       "      <td>...</td>\n",
       "      <td>...</td>\n",
       "      <td>...</td>\n",
       "      <td>...</td>\n",
       "    </tr>\n",
       "    <tr>\n",
       "      <th>4826</th>\n",
       "      <td>11355</td>\n",
       "      <td>11412</td>\n",
       "      <td>1-P2585Q-CTG-00-EV</td>\n",
       "      <td>1.0</td>\n",
       "    </tr>\n",
       "    <tr>\n",
       "      <th>4827</th>\n",
       "      <td>8311</td>\n",
       "      <td>11412</td>\n",
       "      <td>1-GOLDAI-WHI-00-EP</td>\n",
       "      <td>1.0</td>\n",
       "    </tr>\n",
       "    <tr>\n",
       "      <th>4828</th>\n",
       "      <td>5</td>\n",
       "      <td>11412</td>\n",
       "      <td>1-LUOIMA-WHI-28-CM</td>\n",
       "      <td>1.0</td>\n",
       "    </tr>\n",
       "    <tr>\n",
       "      <th>4829</th>\n",
       "      <td>777</td>\n",
       "      <td>11468</td>\n",
       "      <td>1-NY0000-BLK-00-PE</td>\n",
       "      <td>1.0</td>\n",
       "    </tr>\n",
       "    <tr>\n",
       "      <th>4830</th>\n",
       "      <td>777</td>\n",
       "      <td>11469</td>\n",
       "      <td>1-NY0000-BLK-00-PE</td>\n",
       "      <td>1.0</td>\n",
       "    </tr>\n",
       "  </tbody>\n",
       "</table>\n",
       "<p>4831 rows × 4 columns</p>\n",
       "</div>"
      ],
      "text/plain": [
       "      product_id  outsourcing_product_id        product_code  \\\n",
       "0             73                      75  1-CVAC04-SCA-00-IW   \n",
       "1             73                      78  1-CVAC04-SCA-00-IW   \n",
       "2             73                      79  1-CVAC04-SCA-00-IW   \n",
       "3             80                      81  1-CVAC05-DBN-00-IW   \n",
       "4             96                     101  1-CVAC07-GRY-00-HV   \n",
       "...          ...                     ...                 ...   \n",
       "4826       11355                   11412  1-P2585Q-CTG-00-EV   \n",
       "4827        8311                   11412  1-GOLDAI-WHI-00-EP   \n",
       "4828           5                   11412  1-LUOIMA-WHI-28-CM   \n",
       "4829         777                   11468  1-NY0000-BLK-00-PE   \n",
       "4830         777                   11469  1-NY0000-BLK-00-PE   \n",
       "\n",
       "      quota_outsourcing  \n",
       "0                   1.0  \n",
       "1                   1.0  \n",
       "2                   1.0  \n",
       "3                   1.0  \n",
       "4                   1.0  \n",
       "...                 ...  \n",
       "4826                1.0  \n",
       "4827                1.0  \n",
       "4828                1.0  \n",
       "4829                1.0  \n",
       "4830                1.0  \n",
       "\n",
       "[4831 rows x 4 columns]"
      ]
     },
     "execution_count": 6,
     "metadata": {},
     "output_type": "execute_result"
    }
   ],
   "source": [
    "dfRelationship = pd.read_csv('../dataDA/Relationship.csv')\n",
    "dfRelationship"
   ]
  },
  {
   "cell_type": "code",
   "execution_count": 7,
   "metadata": {},
   "outputs": [],
   "source": [
    "dfProductUnit.to_excel('../dataDA/ProductUnit{}.xlsx'.format(now), index= False)"
   ]
  },
  {
   "attachments": {},
   "cell_type": "markdown",
   "metadata": {},
   "source": [
    "#### Production order + Stock Out"
   ]
  },
  {
   "cell_type": "code",
   "execution_count": 8,
   "metadata": {},
   "outputs": [
    {
     "data": {
      "text/html": [
       "<div>\n",
       "<style scoped>\n",
       "    .dataframe tbody tr th:only-of-type {\n",
       "        vertical-align: middle;\n",
       "    }\n",
       "\n",
       "    .dataframe tbody tr th {\n",
       "        vertical-align: top;\n",
       "    }\n",
       "\n",
       "    .dataframe thead th {\n",
       "        text-align: right;\n",
       "    }\n",
       "</style>\n",
       "<table border=\"1\" class=\"dataframe\">\n",
       "  <thead>\n",
       "    <tr style=\"text-align: right;\">\n",
       "      <th></th>\n",
       "      <th>product_code</th>\n",
       "      <th>order_id</th>\n",
       "      <th>production_order_id</th>\n",
       "      <th>production_code</th>\n",
       "      <th>quantity_production_order</th>\n",
       "      <th>quantity_exported_production_order</th>\n",
       "      <th>time_create</th>\n",
       "      <th>completed_at</th>\n",
       "      <th>time_stock_out</th>\n",
       "    </tr>\n",
       "  </thead>\n",
       "  <tbody>\n",
       "    <tr>\n",
       "      <th>0</th>\n",
       "      <td>1-CVAC04-SCA-00-HV</td>\n",
       "      <td>1</td>\n",
       "      <td>15</td>\n",
       "      <td>PYC-07-CAT</td>\n",
       "      <td>19.548</td>\n",
       "      <td>18.548</td>\n",
       "      <td>2022-05-13</td>\n",
       "      <td>2022-05-14</td>\n",
       "      <td>2022-05-16</td>\n",
       "    </tr>\n",
       "    <tr>\n",
       "      <th>1</th>\n",
       "      <td>1-CVAC12-ROL-00-IW</td>\n",
       "      <td>1</td>\n",
       "      <td>15</td>\n",
       "      <td>PYC-07-CAT</td>\n",
       "      <td>37.246</td>\n",
       "      <td>36.246</td>\n",
       "      <td>2022-05-13</td>\n",
       "      <td>2022-05-14</td>\n",
       "      <td>2022-05-16</td>\n",
       "    </tr>\n",
       "    <tr>\n",
       "      <th>2</th>\n",
       "      <td>2-M83200-BLK-00-DI</td>\n",
       "      <td>1</td>\n",
       "      <td>15</td>\n",
       "      <td>PYC-07-CAT</td>\n",
       "      <td>16.500</td>\n",
       "      <td>16.500</td>\n",
       "      <td>2022-05-13</td>\n",
       "      <td>2022-05-14</td>\n",
       "      <td>2022-05-16</td>\n",
       "    </tr>\n",
       "    <tr>\n",
       "      <th>3</th>\n",
       "      <td>7-CM3822-RED-50-PP</td>\n",
       "      <td>1</td>\n",
       "      <td>17</td>\n",
       "      <td>PYC-07-THU-DUC</td>\n",
       "      <td>1.500</td>\n",
       "      <td>1.500</td>\n",
       "      <td>2022-05-13</td>\n",
       "      <td>2022-05-16</td>\n",
       "      <td>2022-05-25</td>\n",
       "    </tr>\n",
       "    <tr>\n",
       "      <th>4</th>\n",
       "      <td>7-CM7382-BLU-50-PP</td>\n",
       "      <td>1</td>\n",
       "      <td>17</td>\n",
       "      <td>PYC-07-THU-DUC</td>\n",
       "      <td>4.000</td>\n",
       "      <td>4.000</td>\n",
       "      <td>2022-05-13</td>\n",
       "      <td>2022-05-16</td>\n",
       "      <td>2022-05-25</td>\n",
       "    </tr>\n",
       "    <tr>\n",
       "      <th>...</th>\n",
       "      <td>...</td>\n",
       "      <td>...</td>\n",
       "      <td>...</td>\n",
       "      <td>...</td>\n",
       "      <td>...</td>\n",
       "      <td>...</td>\n",
       "      <td>...</td>\n",
       "      <td>...</td>\n",
       "      <td>...</td>\n",
       "    </tr>\n",
       "    <tr>\n",
       "      <th>39970</th>\n",
       "      <td>3-NH3930-BLK-23-CY</td>\n",
       "      <td>2515</td>\n",
       "      <td>2413</td>\n",
       "      <td>PYC-863-PHOI</td>\n",
       "      <td>101.000</td>\n",
       "      <td>NaN</td>\n",
       "      <td>2022-12-05</td>\n",
       "      <td>2022-12-06</td>\n",
       "      <td>NaN</td>\n",
       "    </tr>\n",
       "    <tr>\n",
       "      <th>39971</th>\n",
       "      <td>9-GLNDYC-000-IN-TL</td>\n",
       "      <td>2515</td>\n",
       "      <td>2413</td>\n",
       "      <td>PYC-863-PHOI</td>\n",
       "      <td>100.000</td>\n",
       "      <td>NaN</td>\n",
       "      <td>2022-12-05</td>\n",
       "      <td>2022-12-06</td>\n",
       "      <td>NaN</td>\n",
       "    </tr>\n",
       "    <tr>\n",
       "      <th>39972</th>\n",
       "      <td>4-KATE00-BLK-N0-28</td>\n",
       "      <td>2515</td>\n",
       "      <td>2413</td>\n",
       "      <td>PYC-863-PHOI</td>\n",
       "      <td>148.500</td>\n",
       "      <td>NaN</td>\n",
       "      <td>2022-12-05</td>\n",
       "      <td>2022-12-06</td>\n",
       "      <td>NaN</td>\n",
       "    </tr>\n",
       "    <tr>\n",
       "      <th>39973</th>\n",
       "      <td>1-SUEDE0-BLK-L2-TQ</td>\n",
       "      <td>2515</td>\n",
       "      <td>2416</td>\n",
       "      <td>PYC-901-CAT</td>\n",
       "      <td>9.840</td>\n",
       "      <td>9.840</td>\n",
       "      <td>2022-12-05</td>\n",
       "      <td>2022-12-06</td>\n",
       "      <td>2022-12-05</td>\n",
       "    </tr>\n",
       "    <tr>\n",
       "      <th>39974</th>\n",
       "      <td>1-SUEDE0-BLK-V1-TQ</td>\n",
       "      <td>2515</td>\n",
       "      <td>2416</td>\n",
       "      <td>PYC-901-CAT</td>\n",
       "      <td>2.620</td>\n",
       "      <td>3.140</td>\n",
       "      <td>2022-12-05</td>\n",
       "      <td>2022-12-06</td>\n",
       "      <td>2022-12-05</td>\n",
       "    </tr>\n",
       "  </tbody>\n",
       "</table>\n",
       "<p>39975 rows × 9 columns</p>\n",
       "</div>"
      ],
      "text/plain": [
       "             product_code  order_id  production_order_id production_code  \\\n",
       "0      1-CVAC04-SCA-00-HV         1                   15      PYC-07-CAT   \n",
       "1      1-CVAC12-ROL-00-IW         1                   15      PYC-07-CAT   \n",
       "2      2-M83200-BLK-00-DI         1                   15      PYC-07-CAT   \n",
       "3      7-CM3822-RED-50-PP         1                   17  PYC-07-THU-DUC   \n",
       "4      7-CM7382-BLU-50-PP         1                   17  PYC-07-THU-DUC   \n",
       "...                   ...       ...                  ...             ...   \n",
       "39970  3-NH3930-BLK-23-CY      2515                 2413    PYC-863-PHOI   \n",
       "39971  9-GLNDYC-000-IN-TL      2515                 2413    PYC-863-PHOI   \n",
       "39972  4-KATE00-BLK-N0-28      2515                 2413    PYC-863-PHOI   \n",
       "39973  1-SUEDE0-BLK-L2-TQ      2515                 2416     PYC-901-CAT   \n",
       "39974  1-SUEDE0-BLK-V1-TQ      2515                 2416     PYC-901-CAT   \n",
       "\n",
       "       quantity_production_order  quantity_exported_production_order  \\\n",
       "0                         19.548                              18.548   \n",
       "1                         37.246                              36.246   \n",
       "2                         16.500                              16.500   \n",
       "3                          1.500                               1.500   \n",
       "4                          4.000                               4.000   \n",
       "...                          ...                                 ...   \n",
       "39970                    101.000                                 NaN   \n",
       "39971                    100.000                                 NaN   \n",
       "39972                    148.500                                 NaN   \n",
       "39973                      9.840                               9.840   \n",
       "39974                      2.620                               3.140   \n",
       "\n",
       "      time_create completed_at time_stock_out  \n",
       "0      2022-05-13   2022-05-14     2022-05-16  \n",
       "1      2022-05-13   2022-05-14     2022-05-16  \n",
       "2      2022-05-13   2022-05-14     2022-05-16  \n",
       "3      2022-05-13   2022-05-16     2022-05-25  \n",
       "4      2022-05-13   2022-05-16     2022-05-25  \n",
       "...           ...          ...            ...  \n",
       "39970  2022-12-05   2022-12-06            NaN  \n",
       "39971  2022-12-05   2022-12-06            NaN  \n",
       "39972  2022-12-05   2022-12-06            NaN  \n",
       "39973  2022-12-05   2022-12-06     2022-12-05  \n",
       "39974  2022-12-05   2022-12-06     2022-12-05  \n",
       "\n",
       "[39975 rows x 9 columns]"
      ]
     },
     "execution_count": 8,
     "metadata": {},
     "output_type": "execute_result"
    }
   ],
   "source": [
    "dfProductionOrder = pd.read_csv('../dataDA/ProductionOrderDetailBao.csv')\n",
    "dfProductionOrder"
   ]
  },
  {
   "cell_type": "code",
   "execution_count": 9,
   "metadata": {},
   "outputs": [],
   "source": [
    "dfOrder = pd.read_csv('../dataDA/OrderBao.csv')"
   ]
  },
  {
   "cell_type": "code",
   "execution_count": 10,
   "metadata": {},
   "outputs": [
    {
     "data": {
      "text/html": [
       "<div>\n",
       "<style scoped>\n",
       "    .dataframe tbody tr th:only-of-type {\n",
       "        vertical-align: middle;\n",
       "    }\n",
       "\n",
       "    .dataframe tbody tr th {\n",
       "        vertical-align: top;\n",
       "    }\n",
       "\n",
       "    .dataframe thead th {\n",
       "        text-align: right;\n",
       "    }\n",
       "</style>\n",
       "<table border=\"1\" class=\"dataframe\">\n",
       "  <thead>\n",
       "    <tr style=\"text-align: right;\">\n",
       "      <th></th>\n",
       "      <th>product_code</th>\n",
       "      <th>order_id</th>\n",
       "      <th>production_order_id</th>\n",
       "      <th>production_code</th>\n",
       "      <th>time_create</th>\n",
       "      <th>completed_at</th>\n",
       "      <th>time_stock_out</th>\n",
       "      <th>quantity_exported_production_order</th>\n",
       "      <th>quantity_production_order</th>\n",
       "    </tr>\n",
       "  </thead>\n",
       "  <tbody>\n",
       "    <tr>\n",
       "      <th>0</th>\n",
       "      <td>1-1035CW-ACG-00-UL</td>\n",
       "      <td>1398</td>\n",
       "      <td>1809</td>\n",
       "      <td>PYC-656-CAT</td>\n",
       "      <td>2022-10-17</td>\n",
       "      <td>2022-10-18</td>\n",
       "      <td>2022-10-18</td>\n",
       "      <td>329.95</td>\n",
       "      <td>329.95</td>\n",
       "    </tr>\n",
       "    <tr>\n",
       "      <th>1</th>\n",
       "      <td>1-1035CW-ACG-00-UL</td>\n",
       "      <td>1399</td>\n",
       "      <td>1809</td>\n",
       "      <td>PYC-656-CAT</td>\n",
       "      <td>2022-10-17</td>\n",
       "      <td>2022-10-18</td>\n",
       "      <td>2022-10-18</td>\n",
       "      <td>410.02</td>\n",
       "      <td>410.02</td>\n",
       "    </tr>\n",
       "    <tr>\n",
       "      <th>2</th>\n",
       "      <td>1-1035CW-ACG-L1-UL</td>\n",
       "      <td>1398</td>\n",
       "      <td>1809</td>\n",
       "      <td>PYC-656-CAT</td>\n",
       "      <td>2022-10-17</td>\n",
       "      <td>2022-10-18</td>\n",
       "      <td>2022-10-18</td>\n",
       "      <td>41.47</td>\n",
       "      <td>41.47</td>\n",
       "    </tr>\n",
       "    <tr>\n",
       "      <th>3</th>\n",
       "      <td>1-1035CW-ACG-L1-UL</td>\n",
       "      <td>1399</td>\n",
       "      <td>1809</td>\n",
       "      <td>PYC-656-CAT</td>\n",
       "      <td>2022-10-17</td>\n",
       "      <td>2022-10-18</td>\n",
       "      <td>2022-10-18</td>\n",
       "      <td>47.08</td>\n",
       "      <td>47.08</td>\n",
       "    </tr>\n",
       "    <tr>\n",
       "      <th>4</th>\n",
       "      <td>1-1035CW-SGY-00-UL</td>\n",
       "      <td>1400</td>\n",
       "      <td>1839</td>\n",
       "      <td>PYC-667-CAT</td>\n",
       "      <td>2022-10-18</td>\n",
       "      <td>2022-10-19</td>\n",
       "      <td>2022-10-18</td>\n",
       "      <td>110.48</td>\n",
       "      <td>110.48</td>\n",
       "    </tr>\n",
       "    <tr>\n",
       "      <th>...</th>\n",
       "      <td>...</td>\n",
       "      <td>...</td>\n",
       "      <td>...</td>\n",
       "      <td>...</td>\n",
       "      <td>...</td>\n",
       "      <td>...</td>\n",
       "      <td>...</td>\n",
       "      <td>...</td>\n",
       "      <td>...</td>\n",
       "    </tr>\n",
       "    <tr>\n",
       "      <th>36603</th>\n",
       "      <td>9-X44317-Y00-5L-BN</td>\n",
       "      <td>1911</td>\n",
       "      <td>1637</td>\n",
       "      <td>PYC-215-THUDUC</td>\n",
       "      <td>2022-10-03</td>\n",
       "      <td>2022-10-04</td>\n",
       "      <td>2022-10-03</td>\n",
       "      <td>1.00</td>\n",
       "      <td>1.00</td>\n",
       "    </tr>\n",
       "    <tr>\n",
       "      <th>36604</th>\n",
       "      <td>9-X44317-Y00-5L-BN</td>\n",
       "      <td>1912</td>\n",
       "      <td>1637</td>\n",
       "      <td>PYC-215-THUDUC</td>\n",
       "      <td>2022-10-03</td>\n",
       "      <td>2022-10-04</td>\n",
       "      <td>2022-10-03</td>\n",
       "      <td>1.00</td>\n",
       "      <td>1.00</td>\n",
       "    </tr>\n",
       "    <tr>\n",
       "      <th>36605</th>\n",
       "      <td>9-X44317-Y00-5L-BN</td>\n",
       "      <td>1913</td>\n",
       "      <td>1637</td>\n",
       "      <td>PYC-215-THUDUC</td>\n",
       "      <td>2022-10-03</td>\n",
       "      <td>2022-10-04</td>\n",
       "      <td>2022-10-03</td>\n",
       "      <td>1.00</td>\n",
       "      <td>1.00</td>\n",
       "    </tr>\n",
       "    <tr>\n",
       "      <th>36606</th>\n",
       "      <td>9-X44317-Y00-5L-BN</td>\n",
       "      <td>1963</td>\n",
       "      <td>1713</td>\n",
       "      <td>PYC-227-THUDUC</td>\n",
       "      <td>2022-10-07</td>\n",
       "      <td>2022-10-08</td>\n",
       "      <td>2022-10-08</td>\n",
       "      <td>0.50</td>\n",
       "      <td>0.50</td>\n",
       "    </tr>\n",
       "    <tr>\n",
       "      <th>36607</th>\n",
       "      <td>9-X44317-Y00-5L-BN</td>\n",
       "      <td>1964</td>\n",
       "      <td>1713</td>\n",
       "      <td>PYC-227-THUDUC</td>\n",
       "      <td>2022-10-07</td>\n",
       "      <td>2022-10-08</td>\n",
       "      <td>2022-10-08</td>\n",
       "      <td>0.50</td>\n",
       "      <td>0.50</td>\n",
       "    </tr>\n",
       "  </tbody>\n",
       "</table>\n",
       "<p>36608 rows × 9 columns</p>\n",
       "</div>"
      ],
      "text/plain": [
       "             product_code  order_id  production_order_id production_code  \\\n",
       "0      1-1035CW-ACG-00-UL      1398                 1809     PYC-656-CAT   \n",
       "1      1-1035CW-ACG-00-UL      1399                 1809     PYC-656-CAT   \n",
       "2      1-1035CW-ACG-L1-UL      1398                 1809     PYC-656-CAT   \n",
       "3      1-1035CW-ACG-L1-UL      1399                 1809     PYC-656-CAT   \n",
       "4      1-1035CW-SGY-00-UL      1400                 1839     PYC-667-CAT   \n",
       "...                   ...       ...                  ...             ...   \n",
       "36603  9-X44317-Y00-5L-BN      1911                 1637  PYC-215-THUDUC   \n",
       "36604  9-X44317-Y00-5L-BN      1912                 1637  PYC-215-THUDUC   \n",
       "36605  9-X44317-Y00-5L-BN      1913                 1637  PYC-215-THUDUC   \n",
       "36606  9-X44317-Y00-5L-BN      1963                 1713  PYC-227-THUDUC   \n",
       "36607  9-X44317-Y00-5L-BN      1964                 1713  PYC-227-THUDUC   \n",
       "\n",
       "      time_create completed_at time_stock_out  \\\n",
       "0      2022-10-17   2022-10-18     2022-10-18   \n",
       "1      2022-10-17   2022-10-18     2022-10-18   \n",
       "2      2022-10-17   2022-10-18     2022-10-18   \n",
       "3      2022-10-17   2022-10-18     2022-10-18   \n",
       "4      2022-10-18   2022-10-19     2022-10-18   \n",
       "...           ...          ...            ...   \n",
       "36603  2022-10-03   2022-10-04     2022-10-03   \n",
       "36604  2022-10-03   2022-10-04     2022-10-03   \n",
       "36605  2022-10-03   2022-10-04     2022-10-03   \n",
       "36606  2022-10-07   2022-10-08     2022-10-08   \n",
       "36607  2022-10-07   2022-10-08     2022-10-08   \n",
       "\n",
       "       quantity_exported_production_order  quantity_production_order  \n",
       "0                                  329.95                     329.95  \n",
       "1                                  410.02                     410.02  \n",
       "2                                   41.47                      41.47  \n",
       "3                                   47.08                      47.08  \n",
       "4                                  110.48                     110.48  \n",
       "...                                   ...                        ...  \n",
       "36603                                1.00                       1.00  \n",
       "36604                                1.00                       1.00  \n",
       "36605                                1.00                       1.00  \n",
       "36606                                0.50                       0.50  \n",
       "36607                                0.50                       0.50  \n",
       "\n",
       "[36608 rows x 9 columns]"
      ]
     },
     "execution_count": 10,
     "metadata": {},
     "output_type": "execute_result"
    }
   ],
   "source": [
    "dfProductionOrder = dfProductionOrder.groupby(['product_code', 'order_id' ,'production_order_id' , 'production_code',\n",
    "                                    'quantity_production_order' ,\n",
    "                                    'time_create' , 'completed_at' , 'time_stock_out'], as_index=False)['quantity_exported_production_order'].sum()\n",
    "\n",
    "dfProductionOrder = dfProductionOrder.groupby(['product_code', 'order_id' ,'production_order_id' , 'production_code',\n",
    "                                    'time_create' , 'completed_at' , 'time_stock_out' , 'quantity_exported_production_order'], as_index=False)['quantity_production_order'].sum()\n",
    "\n",
    "dfProductionOrder\n"
   ]
  },
  {
   "cell_type": "code",
   "execution_count": 11,
   "metadata": {},
   "outputs": [],
   "source": [
    "dfOrder = dfOrder.groupby(['product_id', 'order_code' ,'order_id' ,\n",
    "                                    'product_code'], as_index=False)['total_quota'].sum()"
   ]
  },
  {
   "cell_type": "code",
   "execution_count": 12,
   "metadata": {},
   "outputs": [],
   "source": [
    "dfProductionOrder = dfProductionOrder.replace(np.NaN , 0)\n",
    "dfProductionOrderMerge = pd.merge(dfOrder, dfProductionOrder , on = ['product_code' , 'order_id'], how = 'left')\n",
    "dfProductionOrderMerge = dfProductionOrderMerge.replace(np.NaN , 0)"
   ]
  },
  {
   "cell_type": "code",
   "execution_count": 13,
   "metadata": {},
   "outputs": [
    {
     "data": {
      "text/html": [
       "<div>\n",
       "<style scoped>\n",
       "    .dataframe tbody tr th:only-of-type {\n",
       "        vertical-align: middle;\n",
       "    }\n",
       "\n",
       "    .dataframe tbody tr th {\n",
       "        vertical-align: top;\n",
       "    }\n",
       "\n",
       "    .dataframe thead th {\n",
       "        text-align: right;\n",
       "    }\n",
       "</style>\n",
       "<table border=\"1\" class=\"dataframe\">\n",
       "  <thead>\n",
       "    <tr style=\"text-align: right;\">\n",
       "      <th></th>\n",
       "      <th>product_id</th>\n",
       "      <th>order_code</th>\n",
       "      <th>order_id</th>\n",
       "      <th>product_code</th>\n",
       "      <th>total_quota</th>\n",
       "      <th>production_order_id</th>\n",
       "      <th>production_code</th>\n",
       "      <th>time_create</th>\n",
       "      <th>completed_at</th>\n",
       "      <th>time_stock_out</th>\n",
       "      <th>quantity_exported_production_order</th>\n",
       "      <th>quantity_production_order</th>\n",
       "    </tr>\n",
       "  </thead>\n",
       "  <tbody>\n",
       "    <tr>\n",
       "      <th>336</th>\n",
       "      <td>82</td>\n",
       "      <td>AD-220623-YELIR 2</td>\n",
       "      <td>763</td>\n",
       "      <td>1-CVAC06-BLK-00-HV</td>\n",
       "      <td>96.0</td>\n",
       "      <td>499.0</td>\n",
       "      <td>PYC-194-CAT</td>\n",
       "      <td>2022-06-30</td>\n",
       "      <td>2022-07-01</td>\n",
       "      <td>2022-07-01</td>\n",
       "      <td>95.999999</td>\n",
       "      <td>96.0</td>\n",
       "    </tr>\n",
       "    <tr>\n",
       "      <th>337</th>\n",
       "      <td>82</td>\n",
       "      <td>AD-220623-YELIR 2</td>\n",
       "      <td>763</td>\n",
       "      <td>1-CVAC06-BLK-00-HV</td>\n",
       "      <td>96.0</td>\n",
       "      <td>499.0</td>\n",
       "      <td>PYC-194-CAT</td>\n",
       "      <td>2022-06-30</td>\n",
       "      <td>2022-07-01</td>\n",
       "      <td>2022-07-04</td>\n",
       "      <td>0.000001</td>\n",
       "      <td>96.0</td>\n",
       "    </tr>\n",
       "  </tbody>\n",
       "</table>\n",
       "</div>"
      ],
      "text/plain": [
       "     product_id         order_code  order_id        product_code  total_quota  \\\n",
       "336          82  AD-220623-YELIR 2       763  1-CVAC06-BLK-00-HV         96.0   \n",
       "337          82  AD-220623-YELIR 2       763  1-CVAC06-BLK-00-HV         96.0   \n",
       "\n",
       "     production_order_id production_code time_create completed_at  \\\n",
       "336                499.0     PYC-194-CAT  2022-06-30   2022-07-01   \n",
       "337                499.0     PYC-194-CAT  2022-06-30   2022-07-01   \n",
       "\n",
       "    time_stock_out  quantity_exported_production_order  \\\n",
       "336     2022-07-01                           95.999999   \n",
       "337     2022-07-04                            0.000001   \n",
       "\n",
       "     quantity_production_order  \n",
       "336                       96.0  \n",
       "337                       96.0  "
      ]
     },
     "execution_count": 13,
     "metadata": {},
     "output_type": "execute_result"
    }
   ],
   "source": [
    "dfProductionOrderMerge[(dfProductionOrderMerge['order_code'] == 'AD-220623-YELIR 2')].head(2)"
   ]
  },
  {
   "cell_type": "code",
   "execution_count": 14,
   "metadata": {},
   "outputs": [],
   "source": [
    "# dfProductionOrderMerge[dfProductionOrderMerge['order_code'] == 'Charter Hat-Med-Cream-Sand']"
   ]
  },
  {
   "cell_type": "code",
   "execution_count": null,
   "metadata": {},
   "outputs": [
    {
     "ename": "",
     "evalue": "",
     "output_type": "error",
     "traceback": [
      "\u001b[1;31mJupyter cannot be started. Error attempting to locate Jupyter: Select an Interpreter to start Jupyter\n",
      "\u001b[1;31mRun the following command to install 'jupyter and notebook' into the Python environment. \n",
      "\u001b[1;31mCommand: 'python -m pip install jupyter notebook -U\n",
      "\u001b[1;31mor\n",
      "\u001b[1;31mconda install jupyter notebook -U'\n",
      "\u001b[1;31mClick <a href='https://aka.ms/installJupyterForVSCode'>here</a> for more info."
     ]
    }
   ],
   "source": [
    "dfProductionOrderMerge = dfProductionOrderMerge.drop(columns= {'product_id' , 'order_id' ,'production_order_id'})\n",
    "dfProductionOrderMerge.rename(columns = {'order_code':'Mã đơn hàng' , 'product_code': 'Mã NPL' , 'total_quota': 'Định mức đơn hàng' , 'production_code': 'Mã LSX' , 'quantity_production_order' : 'SL LSX' , \n",
    "                                         'quantity_exported_production_order' : 'Tổng đã xuất' , 'time_create': 'Ngày tạo LSX',\n",
    "                                         'completed_at': 'Ngày hẹn LSX', 'time_stock_out': 'ngày xuất kho'}, inplace = True)\n",
    "dfProductionOrderMerge"
   ]
  },
  {
   "cell_type": "code",
   "execution_count": null,
   "metadata": {},
   "outputs": [
    {
     "ename": "",
     "evalue": "",
     "output_type": "error",
     "traceback": [
      "\u001b[1;31mJupyter cannot be started. Error attempting to locate Jupyter: Select an Interpreter to start Jupyter\n",
      "\u001b[1;31mRun the following command to install 'jupyter and notebook' into the Python environment. \n",
      "\u001b[1;31mCommand: 'python -m pip install jupyter notebook -U\n",
      "\u001b[1;31mor\n",
      "\u001b[1;31mconda install jupyter notebook -U'\n",
      "\u001b[1;31mClick <a href='https://aka.ms/installJupyterForVSCode'>here</a> for more info."
     ]
    }
   ],
   "source": [
    "dfProductionOrderMerge[dfProductionOrderMerge['Mã NPL'] == '9-CCI166-000-00-TA']"
   ]
  },
  {
   "cell_type": "code",
   "execution_count": null,
   "metadata": {},
   "outputs": [
    {
     "ename": "",
     "evalue": "",
     "output_type": "error",
     "traceback": [
      "\u001b[1;31mJupyter cannot be started. Error attempting to locate Jupyter: Select an Interpreter to start Jupyter\n",
      "\u001b[1;31mRun the following command to install 'jupyter and notebook' into the Python environment. \n",
      "\u001b[1;31mCommand: 'python -m pip install jupyter notebook -U\n",
      "\u001b[1;31mor\n",
      "\u001b[1;31mconda install jupyter notebook -U'\n",
      "\u001b[1;31mClick <a href='https://aka.ms/installJupyterForVSCode'>here</a> for more info."
     ]
    }
   ],
   "source": [
    "dfProductionOrderMerge.to_excel('../data_complete/getProductionOrder.xlsx', index= False)"
   ]
  },
  {
   "attachments": {},
   "cell_type": "markdown",
   "metadata": {},
   "source": [
    "#### Outsourcing Stock In\n"
   ]
  },
  {
   "cell_type": "code",
   "execution_count": null,
   "metadata": {},
   "outputs": [
    {
     "ename": "",
     "evalue": "",
     "output_type": "error",
     "traceback": [
      "\u001b[1;31mJupyter cannot be started. Error attempting to locate Jupyter: Select an Interpreter to start Jupyter\n",
      "\u001b[1;31mRun the following command to install 'jupyter and notebook' into the Python environment. \n",
      "\u001b[1;31mCommand: 'python -m pip install jupyter notebook -U\n",
      "\u001b[1;31mor\n",
      "\u001b[1;31mconda install jupyter notebook -U'\n",
      "\u001b[1;31mClick <a href='https://aka.ms/installJupyterForVSCode'>here</a> for more info."
     ]
    }
   ],
   "source": [
    "dfProduct = pd.read_csv(\"../dataDA/Product.csv\")"
   ]
  },
  {
   "cell_type": "code",
   "execution_count": null,
   "metadata": {},
   "outputs": [
    {
     "ename": "",
     "evalue": "",
     "output_type": "error",
     "traceback": [
      "\u001b[1;31mJupyter cannot be started. Error attempting to locate Jupyter: Select an Interpreter to start Jupyter\n",
      "\u001b[1;31mRun the following command to install 'jupyter and notebook' into the Python environment. \n",
      "\u001b[1;31mCommand: 'python -m pip install jupyter notebook -U\n",
      "\u001b[1;31mor\n",
      "\u001b[1;31mconda install jupyter notebook -U'\n",
      "\u001b[1;31mClick <a href='https://aka.ms/installJupyterForVSCode'>here</a> for more info."
     ]
    }
   ],
   "source": [
    "dfPrimary = dfProduct.loc[dfProduct['is_outsourcing'] == 0]\n",
    "dfSecondary = dfProduct.loc[dfProduct['is_outsourcing'] == 1]"
   ]
  },
  {
   "cell_type": "code",
   "execution_count": null,
   "metadata": {},
   "outputs": [
    {
     "ename": "",
     "evalue": "",
     "output_type": "error",
     "traceback": [
      "\u001b[1;31mJupyter cannot be started. Error attempting to locate Jupyter: Select an Interpreter to start Jupyter\n",
      "\u001b[1;31mRun the following command to install 'jupyter and notebook' into the Python environment. \n",
      "\u001b[1;31mCommand: 'python -m pip install jupyter notebook -U\n",
      "\u001b[1;31mor\n",
      "\u001b[1;31mconda install jupyter notebook -U'\n",
      "\u001b[1;31mClick <a href='https://aka.ms/installJupyterForVSCode'>here</a> for more info."
     ]
    }
   ],
   "source": [
    "dfPrimary"
   ]
  },
  {
   "cell_type": "code",
   "execution_count": null,
   "metadata": {},
   "outputs": [
    {
     "ename": "",
     "evalue": "",
     "output_type": "error",
     "traceback": [
      "\u001b[1;31mJupyter cannot be started. Error attempting to locate Jupyter: Select an Interpreter to start Jupyter\n",
      "\u001b[1;31mRun the following command to install 'jupyter and notebook' into the Python environment. \n",
      "\u001b[1;31mCommand: 'python -m pip install jupyter notebook -U\n",
      "\u001b[1;31mor\n",
      "\u001b[1;31mconda install jupyter notebook -U'\n",
      "\u001b[1;31mClick <a href='https://aka.ms/installJupyterForVSCode'>here</a> for more info."
     ]
    }
   ],
   "source": [
    "dfProduct"
   ]
  },
  {
   "cell_type": "code",
   "execution_count": null,
   "metadata": {},
   "outputs": [
    {
     "ename": "",
     "evalue": "",
     "output_type": "error",
     "traceback": [
      "\u001b[1;31mJupyter cannot be started. Error attempting to locate Jupyter: Select an Interpreter to start Jupyter\n",
      "\u001b[1;31mRun the following command to install 'jupyter and notebook' into the Python environment. \n",
      "\u001b[1;31mCommand: 'python -m pip install jupyter notebook -U\n",
      "\u001b[1;31mor\n",
      "\u001b[1;31mconda install jupyter notebook -U'\n",
      "\u001b[1;31mClick <a href='https://aka.ms/installJupyterForVSCode'>here</a> for more info."
     ]
    }
   ],
   "source": [
    "dfOutsourcingStockIn = pd.read_csv('../dataDA/OutsourcingStockInBao.csv')\n",
    "dfOutSourcingDetail = pd.read_csv('../dataDA/OutSourcingDetailBao.csv')"
   ]
  },
  {
   "cell_type": "code",
   "execution_count": null,
   "metadata": {},
   "outputs": [
    {
     "ename": "",
     "evalue": "",
     "output_type": "error",
     "traceback": [
      "\u001b[1;31mJupyter cannot be started. Error attempting to locate Jupyter: Select an Interpreter to start Jupyter\n",
      "\u001b[1;31mRun the following command to install 'jupyter and notebook' into the Python environment. \n",
      "\u001b[1;31mCommand: 'python -m pip install jupyter notebook -U\n",
      "\u001b[1;31mor\n",
      "\u001b[1;31mconda install jupyter notebook -U'\n",
      "\u001b[1;31mClick <a href='https://aka.ms/installJupyterForVSCode'>here</a> for more info."
     ]
    }
   ],
   "source": [
    "dfOutSourcingDetail[dfOutSourcingDetail['outsourcing_order_id'] == 138].shape"
   ]
  },
  {
   "cell_type": "code",
   "execution_count": null,
   "metadata": {},
   "outputs": [
    {
     "ename": "",
     "evalue": "",
     "output_type": "error",
     "traceback": [
      "\u001b[1;31mJupyter cannot be started. Error attempting to locate Jupyter: Select an Interpreter to start Jupyter\n",
      "\u001b[1;31mRun the following command to install 'jupyter and notebook' into the Python environment. \n",
      "\u001b[1;31mCommand: 'python -m pip install jupyter notebook -U\n",
      "\u001b[1;31mor\n",
      "\u001b[1;31mconda install jupyter notebook -U'\n",
      "\u001b[1;31mClick <a href='https://aka.ms/installJupyterForVSCode'>here</a> for more info."
     ]
    }
   ],
   "source": [
    "dfOutsourcingStockIn[dfOutsourcingStockIn['outsourcing_order_id'] == 138].shape"
   ]
  },
  {
   "cell_type": "code",
   "execution_count": null,
   "metadata": {},
   "outputs": [
    {
     "ename": "",
     "evalue": "",
     "output_type": "error",
     "traceback": [
      "\u001b[1;31mJupyter cannot be started. Error attempting to locate Jupyter: Select an Interpreter to start Jupyter\n",
      "\u001b[1;31mRun the following command to install 'jupyter and notebook' into the Python environment. \n",
      "\u001b[1;31mCommand: 'python -m pip install jupyter notebook -U\n",
      "\u001b[1;31mor\n",
      "\u001b[1;31mconda install jupyter notebook -U'\n",
      "\u001b[1;31mClick <a href='https://aka.ms/installJupyterForVSCode'>here</a> for more info."
     ]
    }
   ],
   "source": [
    "dfOutSourcingDetail.sort_values(by = ['outsourcing_order_id'])"
   ]
  },
  {
   "cell_type": "code",
   "execution_count": null,
   "metadata": {},
   "outputs": [
    {
     "ename": "",
     "evalue": "",
     "output_type": "error",
     "traceback": [
      "\u001b[1;31mJupyter cannot be started. Error attempting to locate Jupyter: Select an Interpreter to start Jupyter\n",
      "\u001b[1;31mRun the following command to install 'jupyter and notebook' into the Python environment. \n",
      "\u001b[1;31mCommand: 'python -m pip install jupyter notebook -U\n",
      "\u001b[1;31mor\n",
      "\u001b[1;31mconda install jupyter notebook -U'\n",
      "\u001b[1;31mClick <a href='https://aka.ms/installJupyterForVSCode'>here</a> for more info."
     ]
    }
   ],
   "source": [
    "dfOutsourcingStockIn"
   ]
  },
  {
   "cell_type": "code",
   "execution_count": null,
   "metadata": {},
   "outputs": [
    {
     "ename": "",
     "evalue": "",
     "output_type": "error",
     "traceback": [
      "\u001b[1;31mJupyter cannot be started. Error attempting to locate Jupyter: Select an Interpreter to start Jupyter\n",
      "\u001b[1;31mRun the following command to install 'jupyter and notebook' into the Python environment. \n",
      "\u001b[1;31mCommand: 'python -m pip install jupyter notebook -U\n",
      "\u001b[1;31mor\n",
      "\u001b[1;31mconda install jupyter notebook -U'\n",
      "\u001b[1;31mClick <a href='https://aka.ms/installJupyterForVSCode'>here</a> for more info."
     ]
    }
   ],
   "source": [
    "dfOutsourcingStockIn[dfOutsourcingStockIn['outsourcing_order_id'] == 295]"
   ]
  },
  {
   "cell_type": "code",
   "execution_count": null,
   "metadata": {},
   "outputs": [
    {
     "ename": "",
     "evalue": "",
     "output_type": "error",
     "traceback": [
      "\u001b[1;31mJupyter cannot be started. Error attempting to locate Jupyter: Select an Interpreter to start Jupyter\n",
      "\u001b[1;31mRun the following command to install 'jupyter and notebook' into the Python environment. \n",
      "\u001b[1;31mCommand: 'python -m pip install jupyter notebook -U\n",
      "\u001b[1;31mor\n",
      "\u001b[1;31mconda install jupyter notebook -U'\n",
      "\u001b[1;31mClick <a href='https://aka.ms/installJupyterForVSCode'>here</a> for more info."
     ]
    }
   ],
   "source": [
    "dfOutSourcingDetail"
   ]
  },
  {
   "cell_type": "code",
   "execution_count": null,
   "metadata": {},
   "outputs": [
    {
     "ename": "",
     "evalue": "",
     "output_type": "error",
     "traceback": [
      "\u001b[1;31mJupyter cannot be started. Error attempting to locate Jupyter: Select an Interpreter to start Jupyter\n",
      "\u001b[1;31mRun the following command to install 'jupyter and notebook' into the Python environment. \n",
      "\u001b[1;31mCommand: 'python -m pip install jupyter notebook -U\n",
      "\u001b[1;31mor\n",
      "\u001b[1;31mconda install jupyter notebook -U'\n",
      "\u001b[1;31mClick <a href='https://aka.ms/installJupyterForVSCode'>here</a> for more info."
     ]
    }
   ],
   "source": [
    "dfOutSourcingDetailMerge = dfOutSourcingDetail.merge(dfOutsourcingStockIn , on = ['outsourcing_order_id' , \n",
    "                                                            'product_id' , 'outsourcing_quantity'], how = 'right').replace(np.NaN , 0)\n",
    "dfOutSourcingDetailMerge"
   ]
  },
  {
   "cell_type": "code",
   "execution_count": null,
   "metadata": {},
   "outputs": [
    {
     "ename": "",
     "evalue": "",
     "output_type": "error",
     "traceback": [
      "\u001b[1;31mJupyter cannot be started. Error attempting to locate Jupyter: Select an Interpreter to start Jupyter\n",
      "\u001b[1;31mRun the following command to install 'jupyter and notebook' into the Python environment. \n",
      "\u001b[1;31mCommand: 'python -m pip install jupyter notebook -U\n",
      "\u001b[1;31mor\n",
      "\u001b[1;31mconda install jupyter notebook -U'\n",
      "\u001b[1;31mClick <a href='https://aka.ms/installJupyterForVSCode'>here</a> for more info."
     ]
    }
   ],
   "source": [
    "dfProduct[dfProduct['product_id'] == 8617]"
   ]
  },
  {
   "cell_type": "code",
   "execution_count": null,
   "metadata": {},
   "outputs": [
    {
     "ename": "",
     "evalue": "",
     "output_type": "error",
     "traceback": [
      "\u001b[1;31mJupyter cannot be started. Error attempting to locate Jupyter: Select an Interpreter to start Jupyter\n",
      "\u001b[1;31mRun the following command to install 'jupyter and notebook' into the Python environment. \n",
      "\u001b[1;31mCommand: 'python -m pip install jupyter notebook -U\n",
      "\u001b[1;31mor\n",
      "\u001b[1;31mconda install jupyter notebook -U'\n",
      "\u001b[1;31mClick <a href='https://aka.ms/installJupyterForVSCode'>here</a> for more info."
     ]
    }
   ],
   "source": [
    "dfOutSourcingDetailMerge = dfOutSourcingDetailMerge.merge(dfProduct[['product_id' , 'product_code']] , on = 'product_id'  , how = 'left')\n",
    "# dfOutSourcingDetailMerge"
   ]
  },
  {
   "cell_type": "code",
   "execution_count": null,
   "metadata": {},
   "outputs": [
    {
     "ename": "",
     "evalue": "",
     "output_type": "error",
     "traceback": [
      "\u001b[1;31mJupyter cannot be started. Error attempting to locate Jupyter: Select an Interpreter to start Jupyter\n",
      "\u001b[1;31mRun the following command to install 'jupyter and notebook' into the Python environment. \n",
      "\u001b[1;31mCommand: 'python -m pip install jupyter notebook -U\n",
      "\u001b[1;31mor\n",
      "\u001b[1;31mconda install jupyter notebook -U'\n",
      "\u001b[1;31mClick <a href='https://aka.ms/installJupyterForVSCode'>here</a> for more info."
     ]
    }
   ],
   "source": [
    "# dfOutSourcingDetailMerge[dfOutSourcingDetailMerge['outsourcing_order_id'] == 138]"
   ]
  },
  {
   "cell_type": "code",
   "execution_count": null,
   "metadata": {},
   "outputs": [
    {
     "ename": "",
     "evalue": "",
     "output_type": "error",
     "traceback": [
      "\u001b[1;31mJupyter cannot be started. Error attempting to locate Jupyter: Select an Interpreter to start Jupyter\n",
      "\u001b[1;31mRun the following command to install 'jupyter and notebook' into the Python environment. \n",
      "\u001b[1;31mCommand: 'python -m pip install jupyter notebook -U\n",
      "\u001b[1;31mor\n",
      "\u001b[1;31mconda install jupyter notebook -U'\n",
      "\u001b[1;31mClick <a href='https://aka.ms/installJupyterForVSCode'>here</a> for more info."
     ]
    }
   ],
   "source": [
    "dfOutSourcingDetailMerge = dfOutSourcingDetailMerge.drop(columns= {'product_id' , 'outsourcing_order_id'})\n",
    "dfOutSourcingDetailMerge.rename(columns = {'code':'Mã đơn hàng' , 'name': 'Tên đơn hàng', 'product_code': 'Mã NPL' , 'is_complete_order': 'Hoàn tất đơn hàng' ,\n",
    "                                         'is_complete_order_detail': 'Hoàn tất chi tiết đơn hàng' , 'outsourcing_quantity': 'Số lượng GCN' , 'quantity_stock_in' : 'Số lượng GCN nhập kho' , \n",
    "                                        'created_at_': 'Ngày tạo ĐH', 'delivery_at_': 'Ngày hẹn ĐH', 'delivery_real_': 'Ngày xuất kho GCN'}, inplace = True)\n",
    "dfOutSourcingDetailMerge"
   ]
  },
  {
   "cell_type": "code",
   "execution_count": null,
   "metadata": {},
   "outputs": [
    {
     "ename": "",
     "evalue": "",
     "output_type": "error",
     "traceback": [
      "\u001b[1;31mJupyter cannot be started. Error attempting to locate Jupyter: Select an Interpreter to start Jupyter\n",
      "\u001b[1;31mRun the following command to install 'jupyter and notebook' into the Python environment. \n",
      "\u001b[1;31mCommand: 'python -m pip install jupyter notebook -U\n",
      "\u001b[1;31mor\n",
      "\u001b[1;31mconda install jupyter notebook -U'\n",
      "\u001b[1;31mClick <a href='https://aka.ms/installJupyterForVSCode'>here</a> for more info."
     ]
    }
   ],
   "source": [
    "dfOutSourcingDetailMerge.to_excel('../data_complete/getOutSourcingStockIn.xlsx', index= False)"
   ]
  },
  {
   "cell_type": "code",
   "execution_count": null,
   "metadata": {},
   "outputs": [
    {
     "ename": "",
     "evalue": "",
     "output_type": "error",
     "traceback": [
      "\u001b[1;31mJupyter cannot be started. Error attempting to locate Jupyter: Select an Interpreter to start Jupyter\n",
      "\u001b[1;31mRun the following command to install 'jupyter and notebook' into the Python environment. \n",
      "\u001b[1;31mCommand: 'python -m pip install jupyter notebook -U\n",
      "\u001b[1;31mor\n",
      "\u001b[1;31mconda install jupyter notebook -U'\n",
      "\u001b[1;31mClick <a href='https://aka.ms/installJupyterForVSCode'>here</a> for more info."
     ]
    }
   ],
   "source": [
    "dfOutSourcingDetailMerge[dfOutSourcingDetailMerge['Hoàn tất chi tiết đơn hàng'].isnull()]"
   ]
  },
  {
   "cell_type": "code",
   "execution_count": null,
   "metadata": {},
   "outputs": [
    {
     "ename": "",
     "evalue": "",
     "output_type": "error",
     "traceback": [
      "\u001b[1;31mJupyter cannot be started. Error attempting to locate Jupyter: Select an Interpreter to start Jupyter\n",
      "\u001b[1;31mRun the following command to install 'jupyter and notebook' into the Python environment. \n",
      "\u001b[1;31mCommand: 'python -m pip install jupyter notebook -U\n",
      "\u001b[1;31mor\n",
      "\u001b[1;31mconda install jupyter notebook -U'\n",
      "\u001b[1;31mClick <a href='https://aka.ms/installJupyterForVSCode'>here</a> for more info."
     ]
    }
   ],
   "source": []
  },
  {
   "cell_type": "code",
   "execution_count": null,
   "metadata": {},
   "outputs": [
    {
     "ename": "",
     "evalue": "",
     "output_type": "error",
     "traceback": [
      "\u001b[1;31mJupyter cannot be started. Error attempting to locate Jupyter: Select an Interpreter to start Jupyter\n",
      "\u001b[1;31mRun the following command to install 'jupyter and notebook' into the Python environment. \n",
      "\u001b[1;31mCommand: 'python -m pip install jupyter notebook -U\n",
      "\u001b[1;31mor\n",
      "\u001b[1;31mconda install jupyter notebook -U'\n",
      "\u001b[1;31mClick <a href='https://aka.ms/installJupyterForVSCode'>here</a> for more info."
     ]
    }
   ],
   "source": []
  },
  {
   "attachments": {},
   "cell_type": "markdown",
   "metadata": {},
   "source": [
    "#### Outsourcing Stock Out"
   ]
  },
  {
   "cell_type": "code",
   "execution_count": null,
   "metadata": {},
   "outputs": [
    {
     "ename": "",
     "evalue": "",
     "output_type": "error",
     "traceback": [
      "\u001b[1;31mJupyter cannot be started. Error attempting to locate Jupyter: Select an Interpreter to start Jupyter\n",
      "\u001b[1;31mRun the following command to install 'jupyter and notebook' into the Python environment. \n",
      "\u001b[1;31mCommand: 'python -m pip install jupyter notebook -U\n",
      "\u001b[1;31mor\n",
      "\u001b[1;31mconda install jupyter notebook -U'\n",
      "\u001b[1;31mClick <a href='https://aka.ms/installJupyterForVSCode'>here</a> for more info."
     ]
    }
   ],
   "source": [
    "dfOutSourcingMaterial = pd.read_csv('../dataDA/OutSourcingMaterialBao.csv')\n",
    "dfOutSourcingMaterial = dfOutSourcingMaterial.replace(np.NaN , 0)\n",
    "dfOutSourcingMaterial"
   ]
  },
  {
   "cell_type": "code",
   "execution_count": null,
   "metadata": {},
   "outputs": [
    {
     "ename": "",
     "evalue": "",
     "output_type": "error",
     "traceback": [
      "\u001b[1;31mJupyter cannot be started. Error attempting to locate Jupyter: Select an Interpreter to start Jupyter\n",
      "\u001b[1;31mRun the following command to install 'jupyter and notebook' into the Python environment. \n",
      "\u001b[1;31mCommand: 'python -m pip install jupyter notebook -U\n",
      "\u001b[1;31mor\n",
      "\u001b[1;31mconda install jupyter notebook -U'\n",
      "\u001b[1;31mClick <a href='https://aka.ms/installJupyterForVSCode'>here</a> for more info."
     ]
    }
   ],
   "source": [
    "dfProductNew  = dfProduct.rename(columns={\"product_id\": \"outsourcing_product_id\" , \"product_code\" : \"outsourcing_product_code\"})\n",
    "dfOutSourcingMaterialMerge = dfOutSourcingMaterial.merge(dfProduct[['product_id' , \n",
    "                    'product_code']] , on = 'product_id' , how = 'left').merge(dfProductNew[['outsourcing_product_id' , \n",
    "                    'outsourcing_product_code']] , on = 'outsourcing_product_id' , how = 'left')\n",
    "dfOutSourcingMaterialMerge"
   ]
  },
  {
   "cell_type": "code",
   "execution_count": null,
   "metadata": {},
   "outputs": [
    {
     "ename": "",
     "evalue": "",
     "output_type": "error",
     "traceback": [
      "\u001b[1;31mJupyter cannot be started. Error attempting to locate Jupyter: Select an Interpreter to start Jupyter\n",
      "\u001b[1;31mRun the following command to install 'jupyter and notebook' into the Python environment. \n",
      "\u001b[1;31mCommand: 'python -m pip install jupyter notebook -U\n",
      "\u001b[1;31mor\n",
      "\u001b[1;31mconda install jupyter notebook -U'\n",
      "\u001b[1;31mClick <a href='https://aka.ms/installJupyterForVSCode'>here</a> for more info."
     ]
    }
   ],
   "source": [
    "dfOutSourcingStockOut = pd.read_csv('../dataDA/OutSourcingStockOutBao.csv')\n",
    "dfOutSourcingStockOut = dfOutSourcingStockOut.replace(np.NaN , 0)\n",
    "dfOutSourcingStockOut"
   ]
  },
  {
   "cell_type": "code",
   "execution_count": null,
   "metadata": {},
   "outputs": [
    {
     "ename": "",
     "evalue": "",
     "output_type": "error",
     "traceback": [
      "\u001b[1;31mJupyter cannot be started. Error attempting to locate Jupyter: Select an Interpreter to start Jupyter\n",
      "\u001b[1;31mRun the following command to install 'jupyter and notebook' into the Python environment. \n",
      "\u001b[1;31mCommand: 'python -m pip install jupyter notebook -U\n",
      "\u001b[1;31mor\n",
      "\u001b[1;31mconda install jupyter notebook -U'\n",
      "\u001b[1;31mClick <a href='https://aka.ms/installJupyterForVSCode'>here</a> for more info."
     ]
    }
   ],
   "source": [
    "dfOutSourcingStockOut = dfOutSourcingStockOut.groupby(['product_id' , 'outsourcing_order_id' , 'is_exported',\n",
    "                                                       'outsourcing_detail_id', 'date_of_inventory' ], as_index=False)['quantity_exported_outsourcing'].sum()\n",
    "dfOutSourcingStockOut.sort_values(by = ['product_id'])\n",
    "dfOutSourcingStockOut"
   ]
  },
  {
   "cell_type": "code",
   "execution_count": null,
   "metadata": {},
   "outputs": [
    {
     "ename": "",
     "evalue": "",
     "output_type": "error",
     "traceback": [
      "\u001b[1;31mJupyter cannot be started. Error attempting to locate Jupyter: Select an Interpreter to start Jupyter\n",
      "\u001b[1;31mRun the following command to install 'jupyter and notebook' into the Python environment. \n",
      "\u001b[1;31mCommand: 'python -m pip install jupyter notebook -U\n",
      "\u001b[1;31mor\n",
      "\u001b[1;31mconda install jupyter notebook -U'\n",
      "\u001b[1;31mClick <a href='https://aka.ms/installJupyterForVSCode'>here</a> for more info."
     ]
    }
   ],
   "source": [
    "dfOutSourcingMaterialMergeNew = dfOutSourcingMaterialMerge.merge(dfOutSourcingStockOut, on = ['product_id', 'outsourcing_detail_id' , 'outsourcing_order_id'\n",
    "                                                        , 'is_exported'] , how = 'left')\n",
    "\n",
    "dfOutSourcingMaterialMergeNew"
   ]
  },
  {
   "cell_type": "code",
   "execution_count": null,
   "metadata": {},
   "outputs": [
    {
     "ename": "",
     "evalue": "",
     "output_type": "error",
     "traceback": [
      "\u001b[1;31mJupyter cannot be started. Error attempting to locate Jupyter: Select an Interpreter to start Jupyter\n",
      "\u001b[1;31mRun the following command to install 'jupyter and notebook' into the Python environment. \n",
      "\u001b[1;31mCommand: 'python -m pip install jupyter notebook -U\n",
      "\u001b[1;31mor\n",
      "\u001b[1;31mconda install jupyter notebook -U'\n",
      "\u001b[1;31mClick <a href='https://aka.ms/installJupyterForVSCode'>here</a> for more info."
     ]
    }
   ],
   "source": [
    "dfOutSourcingMaterialMergeNew[dfOutSourcingMaterialMergeNew['outsourcing_order_id'] == 1375]"
   ]
  },
  {
   "cell_type": "code",
   "execution_count": null,
   "metadata": {},
   "outputs": [
    {
     "ename": "",
     "evalue": "",
     "output_type": "error",
     "traceback": [
      "\u001b[1;31mJupyter cannot be started. Error attempting to locate Jupyter: Select an Interpreter to start Jupyter\n",
      "\u001b[1;31mRun the following command to install 'jupyter and notebook' into the Python environment. \n",
      "\u001b[1;31mCommand: 'python -m pip install jupyter notebook -U\n",
      "\u001b[1;31mor\n",
      "\u001b[1;31mconda install jupyter notebook -U'\n",
      "\u001b[1;31mClick <a href='https://aka.ms/installJupyterForVSCode'>here</a> for more info."
     ]
    }
   ],
   "source": [
    "dfOutSourcingOrder = pd.read_csv('../dataDA/OutSourcingOrderBao.csv')\n",
    "dfOutSourcingOrder"
   ]
  },
  {
   "cell_type": "code",
   "execution_count": null,
   "metadata": {},
   "outputs": [
    {
     "ename": "",
     "evalue": "",
     "output_type": "error",
     "traceback": [
      "\u001b[1;31mJupyter cannot be started. Error attempting to locate Jupyter: Select an Interpreter to start Jupyter\n",
      "\u001b[1;31mRun the following command to install 'jupyter and notebook' into the Python environment. \n",
      "\u001b[1;31mCommand: 'python -m pip install jupyter notebook -U\n",
      "\u001b[1;31mor\n",
      "\u001b[1;31mconda install jupyter notebook -U'\n",
      "\u001b[1;31mClick <a href='https://aka.ms/installJupyterForVSCode'>here</a> for more info."
     ]
    }
   ],
   "source": [
    "dfOutSourcingMaterialMerge = dfOutSourcingMaterialMergeNew.merge(dfOutSourcingOrder, on = ['outsourcing_order_id'] , how = 'left')\n",
    "dfOutSourcingMaterialMerge.head(2)"
   ]
  },
  {
   "cell_type": "code",
   "execution_count": null,
   "metadata": {},
   "outputs": [
    {
     "ename": "",
     "evalue": "",
     "output_type": "error",
     "traceback": [
      "\u001b[1;31mJupyter cannot be started. Error attempting to locate Jupyter: Select an Interpreter to start Jupyter\n",
      "\u001b[1;31mRun the following command to install 'jupyter and notebook' into the Python environment. \n",
      "\u001b[1;31mCommand: 'python -m pip install jupyter notebook -U\n",
      "\u001b[1;31mor\n",
      "\u001b[1;31mconda install jupyter notebook -U'\n",
      "\u001b[1;31mClick <a href='https://aka.ms/installJupyterForVSCode'>here</a> for more info."
     ]
    }
   ],
   "source": [
    "dfRelationShip = pd.read_csv('../dataDA/Relationship.csv')\n",
    "dfRelationShipOrder = dfRelationShip.rename(columns= {'product_code' : 'product_code_po'})\n",
    "dfRelationShipOrder"
   ]
  },
  {
   "cell_type": "code",
   "execution_count": null,
   "metadata": {},
   "outputs": [
    {
     "ename": "",
     "evalue": "",
     "output_type": "error",
     "traceback": [
      "\u001b[1;31mJupyter cannot be started. Error attempting to locate Jupyter: Select an Interpreter to start Jupyter\n",
      "\u001b[1;31mRun the following command to install 'jupyter and notebook' into the Python environment. \n",
      "\u001b[1;31mCommand: 'python -m pip install jupyter notebook -U\n",
      "\u001b[1;31mor\n",
      "\u001b[1;31mconda install jupyter notebook -U'\n",
      "\u001b[1;31mClick <a href='https://aka.ms/installJupyterForVSCode'>here</a> for more info."
     ]
    }
   ],
   "source": [
    "dfOutSourcingMaterialRel = dfOutSourcingMaterialMerge.merge(dfRelationShipOrder , on = ['outsourcing_product_id' , 'product_id'] , how = 'left')\n",
    "dfOutSourcingMaterialRel.head(2)"
   ]
  },
  {
   "cell_type": "code",
   "execution_count": null,
   "metadata": {},
   "outputs": [
    {
     "ename": "",
     "evalue": "",
     "output_type": "error",
     "traceback": [
      "\u001b[1;31mJupyter cannot be started. Error attempting to locate Jupyter: Select an Interpreter to start Jupyter\n",
      "\u001b[1;31mRun the following command to install 'jupyter and notebook' into the Python environment. \n",
      "\u001b[1;31mCommand: 'python -m pip install jupyter notebook -U\n",
      "\u001b[1;31mor\n",
      "\u001b[1;31mconda install jupyter notebook -U'\n",
      "\u001b[1;31mClick <a href='https://aka.ms/installJupyterForVSCode'>here</a> for more info."
     ]
    }
   ],
   "source": [
    "dfOutSourcingMaterialRel = dfOutSourcingMaterialRel.drop(columns= {'product_id' , 'outsourcing_order_id' , 'outsourcing_product_id' , 'outsourcing_order_id' , 'outsourcing_detail_id'})\n",
    "\n",
    "new_col1 = ['code','name' , 'product_code' ,'outsourcing_product_code', 'total_quota', \n",
    "      'quantity_outsourcing_detail', 'is_complete_detail', 'is_exported',\n",
    "      'is_complete_infos', 'quota_percent' , 'quota_outsourcing' , 'date_of_inventory',\n",
    "      'quantity_exported_outsourcing' , 'product_code_po']\n",
    "   \n",
    "dfOutSourcingMaterialStockOut= dfOutSourcingMaterialRel.reindex(columns=new_col1)\n",
    "   \n",
    "dfOutSourcingMaterialStockOut.rename(columns = {'code':'Mã ĐH GCN' , 'name': 'Tên ĐH GCN', 'product_code': 'Mã WIP' , 'outsourcing_product_code': 'Mã Thành phẩm',\n",
    "                                             'total_quota': 'SL WIP cần GCN', 'quantity_outsourcing_detail': 'SL thành phẩm cần', 'is_complete_detail': 'Nhập kho Thành phẩm',\n",
    "                                        'is_exported': 'Đã Xuất WIP' , 'is_complete_infos': 'ĐH hoàn tất' , 'quota_percent': 'Định mức GCN' , 'date_of_inventory': 'Ngày xuất kho',\n",
    "                                        'quantity_exported_outsourcing':'Số lượng WIP đi GCN thực tế' , 'quota_outsourcing' : 'Định mức theo thu mua' , 'product_code_po' : 'Mã NPL bán TP theo thu mua'}, inplace = True)\n",
    "dfOutSourcingMaterialStockOut"
   ]
  },
  {
   "cell_type": "code",
   "execution_count": null,
   "metadata": {},
   "outputs": [
    {
     "ename": "",
     "evalue": "",
     "output_type": "error",
     "traceback": [
      "\u001b[1;31mJupyter cannot be started. Error attempting to locate Jupyter: Select an Interpreter to start Jupyter\n",
      "\u001b[1;31mRun the following command to install 'jupyter and notebook' into the Python environment. \n",
      "\u001b[1;31mCommand: 'python -m pip install jupyter notebook -U\n",
      "\u001b[1;31mor\n",
      "\u001b[1;31mconda install jupyter notebook -U'\n",
      "\u001b[1;31mClick <a href='https://aka.ms/installJupyterForVSCode'>here</a> for more info."
     ]
    }
   ],
   "source": [
    "dfOutSourcingMaterialStockOut.to_excel('../data_complete/getOutSourcingStockOut.xlsx', index= False)"
   ]
  },
  {
   "attachments": {},
   "cell_type": "markdown",
   "metadata": {},
   "source": [
    "#### PYC nhap kho"
   ]
  },
  {
   "cell_type": "code",
   "execution_count": null,
   "metadata": {},
   "outputs": [
    {
     "ename": "",
     "evalue": "",
     "output_type": "error",
     "traceback": [
      "\u001b[1;31mJupyter cannot be started. Error attempting to locate Jupyter: Select an Interpreter to start Jupyter\n",
      "\u001b[1;31mRun the following command to install 'jupyter and notebook' into the Python environment. \n",
      "\u001b[1;31mCommand: 'python -m pip install jupyter notebook -U\n",
      "\u001b[1;31mor\n",
      "\u001b[1;31mconda install jupyter notebook -U'\n",
      "\u001b[1;31mClick <a href='https://aka.ms/installJupyterForVSCode'>here</a> for more info."
     ]
    }
   ],
   "source": []
  },
  {
   "cell_type": "code",
   "execution_count": null,
   "metadata": {},
   "outputs": [
    {
     "ename": "",
     "evalue": "",
     "output_type": "error",
     "traceback": [
      "\u001b[1;31mJupyter cannot be started. Error attempting to locate Jupyter: Select an Interpreter to start Jupyter\n",
      "\u001b[1;31mRun the following command to install 'jupyter and notebook' into the Python environment. \n",
      "\u001b[1;31mCommand: 'python -m pip install jupyter notebook -U\n",
      "\u001b[1;31mor\n",
      "\u001b[1;31mconda install jupyter notebook -U'\n",
      "\u001b[1;31mClick <a href='https://aka.ms/installJupyterForVSCode'>here</a> for more info."
     ]
    }
   ],
   "source": []
  },
  {
   "cell_type": "code",
   "execution_count": null,
   "metadata": {},
   "outputs": [
    {
     "ename": "",
     "evalue": "",
     "output_type": "error",
     "traceback": [
      "\u001b[1;31mJupyter cannot be started. Error attempting to locate Jupyter: Select an Interpreter to start Jupyter\n",
      "\u001b[1;31mRun the following command to install 'jupyter and notebook' into the Python environment. \n",
      "\u001b[1;31mCommand: 'python -m pip install jupyter notebook -U\n",
      "\u001b[1;31mor\n",
      "\u001b[1;31mconda install jupyter notebook -U'\n",
      "\u001b[1;31mClick <a href='https://aka.ms/installJupyterForVSCode'>here</a> for more info."
     ]
    }
   ],
   "source": []
  }
 ],
 "metadata": {
  "kernelspec": {
   "display_name": "base",
   "language": "python",
   "name": "python3"
  },
  "language_info": {
   "codemirror_mode": {
    "name": "ipython",
    "version": 3
   },
   "file_extension": ".py",
   "mimetype": "text/x-python",
   "name": "python",
   "nbconvert_exporter": "python",
   "pygments_lexer": "ipython3",
   "version": "3.9.13"
  },
  "orig_nbformat": 4,
  "vscode": {
   "interpreter": {
    "hash": "57814d5bf971618ebb0be85f5aa9bab1a5018503f2c18c224453ea6f4c8573af"
   }
  }
 },
 "nbformat": 4,
 "nbformat_minor": 2
}
